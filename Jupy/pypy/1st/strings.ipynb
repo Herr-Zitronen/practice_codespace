{
 "cells": [
  {
   "cell_type": "code",
   "execution_count": 6,
   "metadata": {},
   "outputs": [
    {
     "name": "stdout",
     "output_type": "stream",
     "text": [
      "there are 100 cars available. \n",
      "There are only 30 drivers available\n",
      "There will be 70 empty cars today. \n",
      "we can transport 120 people today. \n",
      "we have 90 to carpool today\n"
     ]
    }
   ],
   "source": [
    "cars = 100\n",
    "space_in_car = 4.0\n",
    "drivers = 30\n",
    "passengers = 90\n",
    "cars_not_driven = cars - drivers\n",
    "cars_driven = drivers\n",
    "carpool_capacity = int(cars_driven * space_in_car)\n",
    "average_passengers_per_car = passengers / cars_driven\n",
    "\n",
    "print(\"there are\", cars, \"cars available. \")\n",
    "print(\"There are only\", drivers, \"drivers available\")\n",
    "print(\"There will be\", cars_not_driven, \"empty cars today. \")\n",
    "print(\"we can transport\", carpool_capacity, \"people today. \")\n",
    "print(\"we have\", passengers, \"to carpool today\")\n",
    "\n"
   ]
  },
  {
   "cell_type": "code",
   "execution_count": 7,
   "metadata": {},
   "outputs": [
    {
     "name": "stdout",
     "output_type": "stream",
     "text": [
      "Let's talk about Zed\n",
      "He is 74 inches tall\n",
      "he's 180 pound heavly\n",
      "Actually that's not too heavy.\n",
      "he's got blue eyes and Brown hair\n",
      "His teeth are usually white depending on the coffee. \n"
     ]
    }
   ],
   "source": [
    "my_name = \"Zed\" \n",
    "my_age = 35 #n\n",
    "my_height = 74 #inches\n",
    "my_weight = 180 #lbs\n",
    "my_eyes = \"blue\"\n",
    "my_teeth = \"white\" \n",
    "my_hair = \"Brown\" \n",
    "\n",
    "print(f\"Let's talk about {my_name}\")\n",
    "print(f\"He is {my_height} inches tall\")\n",
    "print(f\"he's {my_weight} pound heavly\")\n",
    "print(\"Actually that's not too heavy.\")\n",
    "print(f\"he's got {my_eyes} eyes and {my_hair} hair\")\n",
    "print(f\"His teeth are usually {my_teeth} depending on the coffee. \")"
   ]
  },
  {
   "cell_type": "code",
   "execution_count": 8,
   "metadata": {},
   "outputs": [
    {
     "name": "stdout",
     "output_type": "stream",
     "text": [
      "140722232113944\n"
     ]
    }
   ],
   "source": [
    "num1 = 12\n",
    "print(id(num1))"
   ]
  },
  {
   "cell_type": "code",
   "execution_count": 9,
   "metadata": {},
   "outputs": [
    {
     "name": "stdout",
     "output_type": "stream",
     "text": [
      "140722232113944\n"
     ]
    }
   ],
   "source": [
    "num2 = 12\n",
    "print(id(num2))"
   ]
  },
  {
   "cell_type": "code",
   "execution_count": 10,
   "metadata": {},
   "outputs": [
    {
     "name": "stdout",
     "output_type": "stream",
     "text": [
      "True\n"
     ]
    }
   ],
   "source": [
    "print(id(num1) == id(num2))\n"
   ]
  },
  {
   "cell_type": "code",
   "execution_count": 3,
   "metadata": {},
   "outputs": [
    {
     "name": "stdout",
     "output_type": "stream",
     "text": [
      "<class '__main__.MyDog'>\n"
     ]
    }
   ],
   "source": [
    "class MyDog:\n",
    "    def __init__(self, name):\n",
    "        self.name = name\n",
    "    \n",
    "    def show_name(self):\n",
    "        print(f\"my dog's name is {self.name}\")\n",
    "\n",
    "x= MyDog('Pip')\n",
    "print(type(x))\n"
   ]
  },
  {
   "cell_type": "markdown",
   "metadata": {},
   "source": [
    "New part. Practice:"
   ]
  },
  {
   "cell_type": "code",
   "execution_count": 4,
   "metadata": {},
   "outputs": [
    {
     "name": "stdout",
     "output_type": "stream",
     "text": [
      "Hello\n"
     ]
    }
   ],
   "source": [
    "def main():\n",
    "    print('Hello')\n",
    "\n",
    "if __name__ == '__main__':\n",
    "    main()"
   ]
  },
  {
   "cell_type": "code",
   "execution_count": 12,
   "metadata": {},
   "outputs": [
    {
     "name": "stdout",
     "output_type": "stream",
     "text": [
      "hello zed!\n"
     ]
    }
   ],
   "source": [
    "my_name = \"zed\"\n",
    "print(\"hello \" + my_name + \"!\" )"
   ]
  },
  {
   "cell_type": "code",
   "execution_count": null,
   "metadata": {},
   "outputs": [],
   "source": []
  }
 ],
 "metadata": {
  "kernelspec": {
   "display_name": "base",
   "language": "python",
   "name": "python3"
  },
  "language_info": {
   "codemirror_mode": {
    "name": "ipython",
    "version": 3
   },
   "file_extension": ".py",
   "mimetype": "text/x-python",
   "name": "python",
   "nbconvert_exporter": "python",
   "pygments_lexer": "ipython3",
   "version": "3.12.4"
  }
 },
 "nbformat": 4,
 "nbformat_minor": 2
}

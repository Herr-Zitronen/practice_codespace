{
 "cells": [
  {
   "cell_type": "code",
   "execution_count": null,
   "metadata": {},
   "outputs": [],
   "source": [
    "def factorial(num):\n",
    "    stack = []\n",
    "    if num == 1:\n",
    "        print(\"Fin de la funcion. Factorial 1\")\n",
    "        return 1\n",
    "    else:\n",
    "        stack.append({'input':num})\n",
    "        print('stack: ', stack)\n",
    "        return num * factorial(num-1)\n",
    "\n",
    "print(factorial(5))"
   ]
  },
  {
   "cell_type": "code",
   "execution_count": 18,
   "metadata": {},
   "outputs": [
    {
     "data": {
      "text/plain": [
       "3.1415"
      ]
     },
     "execution_count": 18,
     "metadata": {},
     "output_type": "execute_result"
    }
   ],
   "source": [
    "x, y, z = 1, 2, 0.5435\n",
    "\n",
    "CONSTANT = 3.1415\n",
    "\n",
    "CONSTANT"
   ]
  },
  {
   "cell_type": "code",
   "execution_count": 19,
   "metadata": {},
   "outputs": [
    {
     "name": "stdout",
     "output_type": "stream",
     "text": [
      "The Zen of Python, by Tim Peters\n",
      "\n",
      "Beautiful is better than ugly.\n",
      "Explicit is better than implicit.\n",
      "Simple is better than complex.\n",
      "Complex is better than complicated.\n",
      "Flat is better than nested.\n",
      "Sparse is better than dense.\n",
      "Readability counts.\n",
      "Special cases aren't special enough to break the rules.\n",
      "Although practicality beats purity.\n",
      "Errors should never pass silently.\n",
      "Unless explicitly silenced.\n",
      "In the face of ambiguity, refuse the temptation to guess.\n",
      "There should be one-- and preferably only one --obvious way to do it.\n",
      "Although that way may not be obvious at first unless you're Dutch.\n",
      "Now is better than never.\n",
      "Although never is often better than *right* now.\n",
      "If the implementation is hard to explain, it's a bad idea.\n",
      "If the implementation is easy to explain, it may be a good idea.\n",
      "Namespaces are one honking great idea -- let's do more of those!\n"
     ]
    }
   ],
   "source": [
    "import this"
   ]
  },
  {
   "cell_type": "markdown",
   "metadata": {},
   "source": [
    "### Lists"
   ]
  },
  {
   "cell_type": "code",
   "execution_count": 40,
   "metadata": {},
   "outputs": [
    {
     "name": "stdout",
     "output_type": "stream",
     "text": [
      "I think bicycles are very 'smooth'.\n",
      "I think bicycles are very 'quite'.\n",
      "['quite', 'funny', 'explored']\n",
      "-------\n",
      "['quite', 'smooth', 'funny', 'explored']\n",
      "['quite', 'smooth', 'explored']\n",
      "['quite', 'smooth']\n",
      "And the popped_byc is: explored\n",
      "['quite', 'smooth']\n",
      "My last item is smooth\n",
      "['quite']\n"
     ]
    }
   ],
   "source": [
    "bicycles = ['smooth', 'funny', 'explored']\n",
    "# print(bicycles[0].title())\n",
    "# print(bicycles[-1])\n",
    "\n",
    "message = f\"I think bicycles are very '{bicycles[0]}'.\"\n",
    "print(message)\n",
    "\n",
    "bicycles[0] = \"quite\"\n",
    "\n",
    "message = f\"I think bicycles are very '{bicycles[0]}'.\"\n",
    "print(message)\n",
    "print(bicycles)\n",
    "\n",
    "print(\"-------\") # divider\n",
    "\n",
    "bicycles.insert(1, \"smooth\") #cuz smooth is good too.\n",
    "print(bicycles)\n",
    "\n",
    "del bicycles[2] # funny is not good here.\n",
    "print(bicycles)\n",
    "\n",
    "popped_bic = bicycles.pop()\n",
    "print(bicycles)\n",
    "print(\"And the popped_byc is: \" + popped_bic)\n",
    "\n",
    "#or\n",
    "print(bicycles)\n",
    "\n",
    "print(\"My last item is \" + bicycles.pop())\n",
    "\n",
    "print(bicycles)\n"
   ]
  },
  {
   "cell_type": "code",
   "execution_count": null,
   "metadata": {},
   "outputs": [
    {
     "name": "stdout",
     "output_type": "stream",
     "text": [
      "Sam is a character from the book.\n",
      "Marx is a character from the book.\n",
      "Sadie is a character from the book.\n",
      "They are good.\n"
     ]
    }
   ],
   "source": [
    "# List for loop\n",
    "\n",
    "Ichigo = [\"sam\", \"marx\", \"sadie\"]\n",
    "for name in Ichigo:\n",
    "    print(f\"{name.title()} is a character from the book.\")\n",
    "print(\"They are good.\")\n"
   ]
  },
  {
   "cell_type": "markdown",
   "metadata": {},
   "source": [
    "### Lambda "
   ]
  },
  {
   "cell_type": "code",
   "execution_count": 9,
   "metadata": {},
   "outputs": [
    {
     "name": "stdout",
     "output_type": "stream",
     "text": [
      "81\n"
     ]
    }
   ],
   "source": [
    "x = 9\n",
    "func_2 = lambda x: x ** 2\n",
    "print(func_2(x))"
   ]
  },
  {
   "cell_type": "code",
   "execution_count": null,
   "metadata": {},
   "outputs": [],
   "source": []
  }
 ],
 "metadata": {
  "kernelspec": {
   "display_name": "base",
   "language": "python",
   "name": "python3"
  },
  "language_info": {
   "codemirror_mode": {
    "name": "ipython",
    "version": 3
   },
   "file_extension": ".py",
   "mimetype": "text/x-python",
   "name": "python",
   "nbconvert_exporter": "python",
   "pygments_lexer": "ipython3",
   "version": "3.12.4"
  }
 },
 "nbformat": 4,
 "nbformat_minor": 2
}

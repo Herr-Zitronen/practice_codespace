{
 "cells": [
  {
   "cell_type": "markdown",
   "id": "77db0cb0",
   "metadata": {},
   "source": [
    "You\n",
    "no, what are the most useful commands\n",
    "Copilot\n",
    "Got it! Here are some of the most useful magic commands in Jupyter Notebooks:\n",
    "\n",
    "General Commands\n",
    "%ls or %pwd: List files or show the current directory.\n",
    "\n",
    "%matplotlib inline: Render Matplotlib plots inline.\n",
    "\n",
    "%run script.py: Run an external script.\n",
    "\n",
    "%timeit: Time how long a piece of code takes to run.\n",
    "\n",
    "%load script.py: Load a script into a cell.\n",
    "\n",
    "Memory Management\n",
    "%reset -f: Clear all variables.\n",
    "\n",
    "%who: List all variables.\n",
    "\n",
    "%whos: List all variables with their details.\n",
    "\n",
    "Data and Output\n",
    "%%capture: Capture the output of a cell and store it in a variable.\n",
    "\n",
    "%store: Save a variable to disk.\n",
    "\n",
    "%history: Print input history.\n",
    "\n",
    "%load_ext: Load an external module.\n",
    "\n",
    "Debugging and Profiling\n",
    "%debug: Activate the debugger.\n",
    "\n",
    "%pdb: Automatically enter debugger after an exception.\n",
    "\n",
    "%prun: Profile a Python script.\n",
    "\n",
    "%lprun: Line-by-line profiling.\n",
    "\n",
    "%memit: Measure memory usage of a function.\n",
    "\n",
    "Cell Magic\n",
    "%%time: Time the execution of a cell.\n",
    "\n",
    "%%writefile filename.py: Write cell contents to a file.\n",
    "\n",
    "These should help streamline your workflow and make your coding experience smoother. Got any more brain-busters for me?"
   ]
  },
  {
   "cell_type": "code",
   "execution_count": 5,
   "id": "e3b5f1d0",
   "metadata": {},
   "outputs": [
    {
     "data": {
      "text/plain": [
       "'four score and 16 years'"
      ]
     },
     "execution_count": 5,
     "metadata": {},
     "output_type": "execute_result"
    }
   ],
   "source": [
    "'four score and ' + str(8*2) + ' years'"
   ]
  },
  {
   "cell_type": "code",
   "execution_count": 30,
   "id": "bd7381a1",
   "metadata": {},
   "outputs": [
    {
     "name": "stdout",
     "output_type": "stream",
     "text": [
      "aello\n"
     ]
    }
   ],
   "source": [
    "print('hello\\r' + 'a')\n"
   ]
  },
  {
   "cell_type": "code",
   "execution_count": 32,
   "id": "a7f33d59",
   "metadata": {},
   "outputs": [
    {
     "name": "stdout",
     "output_type": "stream",
     "text": [
      "ab\n"
     ]
    }
   ],
   "source": [
    "print('a' 'b')"
   ]
  },
  {
   "cell_type": "code",
   "execution_count": 33,
   "id": "dc0ae75c",
   "metadata": {},
   "outputs": [
    {
     "name": "stdout",
     "output_type": "stream",
     "text": [
      "Help on built-in function print in module builtins:\n",
      "\n",
      "print(*args, sep=' ', end='\\n', file=None, flush=False)\n",
      "    Prints the values to a stream, or to sys.stdout by default.\n",
      "\n",
      "    sep\n",
      "      string inserted between values, default a space.\n",
      "    end\n",
      "      string appended after the last value, default a newline.\n",
      "    file\n",
      "      a file-like object (stream); defaults to the current sys.stdout.\n",
      "    flush\n",
      "      whether to forcibly flush the stream.\n",
      "\n"
     ]
    }
   ],
   "source": [
    "help(print)"
   ]
  },
  {
   "cell_type": "code",
   "execution_count": 37,
   "id": "419f5951",
   "metadata": {},
   "outputs": [
    {
     "name": "stdout",
     "output_type": "stream",
     "text": [
      "192\n"
     ]
    }
   ],
   "source": [
    "print(1,2, sep='9')"
   ]
  },
  {
   "cell_type": "code",
   "execution_count": 38,
   "id": "e60d49b3",
   "metadata": {},
   "outputs": [
    {
     "data": {
      "text/plain": [
       "'computerScience'"
      ]
     },
     "execution_count": 38,
     "metadata": {},
     "output_type": "execute_result"
    }
   ],
   "source": [
    "'computer' + 'Science'"
   ]
  },
  {
   "cell_type": "code",
   "execution_count": 39,
   "id": "bae1c6b0",
   "metadata": {},
   "outputs": [
    {
     "data": {
      "text/plain": [
       "\"darwin's \""
      ]
     },
     "execution_count": 39,
     "metadata": {},
     "output_type": "execute_result"
    }
   ],
   "source": [
    "'darwin\\'s '"
   ]
  },
  {
   "cell_type": "code",
   "execution_count": 40,
   "id": "5ad34975",
   "metadata": {},
   "outputs": [
    {
     "data": {
      "text/plain": [
       "'h2oh2oh2o'"
      ]
     },
     "execution_count": 40,
     "metadata": {},
     "output_type": "execute_result"
    }
   ],
   "source": [
    "'h2o' *3"
   ]
  },
  {
   "cell_type": "code",
   "execution_count": 41,
   "id": "7a5c6a01",
   "metadata": {},
   "outputs": [
    {
     "data": {
      "text/plain": [
       "''"
      ]
     },
     "execution_count": 41,
     "metadata": {},
     "output_type": "execute_result"
    }
   ],
   "source": [
    "'CO2' * 0\n"
   ]
  },
  {
   "cell_type": "code",
   "execution_count": 42,
   "id": "e01b3fef",
   "metadata": {},
   "outputs": [
    {
     "data": {
      "text/plain": [
       "\"they'll hibernate during the winter\""
      ]
     },
     "execution_count": 42,
     "metadata": {},
     "output_type": "execute_result"
    }
   ],
   "source": [
    "\"they'll hibernate during the winter\""
   ]
  },
  {
   "cell_type": "code",
   "execution_count": 43,
   "id": "0ae28a39",
   "metadata": {},
   "outputs": [
    {
     "data": {
      "text/plain": [
       "'\"Absolutely not\" he said'"
      ]
     },
     "execution_count": 43,
     "metadata": {},
     "output_type": "execute_result"
    }
   ],
   "source": [
    "'\"Absolutely not\" he said'"
   ]
  },
  {
   "cell_type": "code",
   "execution_count": 49,
   "id": "0a903d8d",
   "metadata": {},
   "outputs": [
    {
     "data": {
      "text/plain": [
       "\"he said, 'Absolutly not,' recalled her\""
      ]
     },
     "execution_count": 49,
     "metadata": {},
     "output_type": "execute_result"
    }
   ],
   "source": [
    "'he said, ' + \"'Absolutly not,' recalled her\" "
   ]
  },
  {
   "cell_type": "code",
   "execution_count": 50,
   "id": "73c90120",
   "metadata": {},
   "outputs": [
    {
     "data": {
      "text/plain": [
       "'left\\right'"
      ]
     },
     "execution_count": 50,
     "metadata": {},
     "output_type": "execute_result"
    }
   ],
   "source": [
    "'left\\right'"
   ]
  },
  {
   "cell_type": "code",
   "execution_count": 51,
   "id": "3085ff15",
   "metadata": {},
   "outputs": [
    {
     "data": {
      "text/plain": [
       "0"
      ]
     },
     "execution_count": 51,
     "metadata": {},
     "output_type": "execute_result"
    }
   ],
   "source": [
    "len('')"
   ]
  },
  {
   "cell_type": "code",
   "execution_count": 53,
   "id": "c0512dd6",
   "metadata": {},
   "outputs": [
    {
     "data": {
      "text/plain": [
       "False"
      ]
     },
     "execution_count": 53,
     "metadata": {},
     "output_type": "execute_result"
    }
   ],
   "source": [
    "not True"
   ]
  },
  {
   "cell_type": "code",
   "execution_count": 54,
   "id": "92df4c5a",
   "metadata": {},
   "outputs": [
    {
     "data": {
      "text/plain": [
       "True"
      ]
     },
     "execution_count": 54,
     "metadata": {},
     "output_type": "execute_result"
    }
   ],
   "source": [
    "not False"
   ]
  },
  {
   "cell_type": "code",
   "execution_count": 55,
   "id": "c88d871c",
   "metadata": {},
   "outputs": [
    {
     "data": {
      "text/plain": [
       "True"
      ]
     },
     "execution_count": 55,
     "metadata": {},
     "output_type": "execute_result"
    }
   ],
   "source": [
    "True and True"
   ]
  },
  {
   "cell_type": "code",
   "execution_count": 60,
   "id": "f3fb3ec3",
   "metadata": {},
   "outputs": [
    {
     "data": {
      "text/plain": [
       "False"
      ]
     },
     "execution_count": 60,
     "metadata": {},
     "output_type": "execute_result"
    }
   ],
   "source": [
    "not True or not True"
   ]
  },
  {
   "cell_type": "code",
   "execution_count": 62,
   "id": "a9cdfd62",
   "metadata": {},
   "outputs": [],
   "source": [
    "def something(x: int) -> bool:\n",
    "    \"\"\"Return True iff x is positive \n",
    "    \n",
    "    >>> something(3)\n",
    "    True\n",
    "    >>> something(-34)\n",
    "    False\n",
    "    \"\"\"\n",
    "\n",
    "    return x > 0"
   ]
  },
  {
   "cell_type": "code",
   "execution_count": 63,
   "id": "98d69018",
   "metadata": {},
   "outputs": [
    {
     "data": {
      "text/plain": [
       "True"
      ]
     },
     "execution_count": 63,
     "metadata": {},
     "output_type": "execute_result"
    }
   ],
   "source": [
    "something(3)"
   ]
  },
  {
   "cell_type": "code",
   "execution_count": 64,
   "id": "85512cdc",
   "metadata": {},
   "outputs": [
    {
     "data": {
      "text/plain": [
       "False"
      ]
     },
     "execution_count": 64,
     "metadata": {},
     "output_type": "execute_result"
    }
   ],
   "source": [
    "something(-1)"
   ]
  },
  {
   "cell_type": "code",
   "execution_count": null,
   "id": "c7aa2565",
   "metadata": {},
   "outputs": [],
   "source": []
  }
 ],
 "metadata": {
  "kernelspec": {
   "display_name": "base",
   "language": "python",
   "name": "python3"
  },
  "language_info": {
   "codemirror_mode": {
    "name": "ipython",
    "version": 3
   },
   "file_extension": ".py",
   "mimetype": "text/x-python",
   "name": "python",
   "nbconvert_exporter": "python",
   "pygments_lexer": "ipython3",
   "version": "3.12.4"
  }
 },
 "nbformat": 4,
 "nbformat_minor": 5
}
